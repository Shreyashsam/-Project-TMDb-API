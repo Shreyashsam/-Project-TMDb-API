{
 "cells": [
  {
   "cell_type": "markdown",
   "metadata": {},
   "source": [
    "Project: TMDb API"
   ]
  },
  {
   "attachments": {},
   "cell_type": "markdown",
   "metadata": {},
   "source": [
    "TMDb 1.1\n",
    " "
   ]
  },
  {
   "attachments": {},
   "cell_type": "markdown",
   "metadata": {},
   "source": [
    " Find the 'id' of the movie \"Andhadhun\" using TMDb API."
   ]
  },
  {
   "cell_type": "code",
   "execution_count": 1,
   "metadata": {},
   "outputs": [
    {
     "name": "stdout",
     "output_type": "stream",
     "text": [
      "534780\n"
     ]
    }
   ],
   "source": [
    "import requests\n",
    "\n",
    "url = 'https://api.themoviedb.org/3//company?api_key=c259e364e3cd2e5b4013d7342c7f33fa' \n",
    "\n",
    "for i in range(1,1001):\n",
    "  res = requests.get(url,params={'region':'IN','year':2018,'page':i}).json()\n",
    "  f  = 0\n",
    "  for data in res['results'] : \n",
    "    if data['title'] == 'Andhadhun' :\n",
    "      print(data['id'])\n",
    "      f = 1 \n",
    "      break\n",
    "  if f == 1 : \n",
    "    break\n"
   ]
  },
  {
   "cell_type": "markdown",
   "metadata": {},
   "source": [
    "TMDb 1.2"
   ]
  },
  {
   "attachments": {},
   "cell_type": "markdown",
   "metadata": {},
   "source": [
    "Fetch the company id company 'Marvel Studios' using TMDb. Print the id."
   ]
  },
  {
   "cell_type": "code",
   "execution_count": 7,
   "metadata": {},
   "outputs": [
    {
     "name": "stdout",
     "output_type": "stream",
     "text": [
      "420\n"
     ]
    }
   ],
   "source": [
    "import requests\n",
    "import json\n",
    "url='https://api.themoviedb.org/3/search/company?api_key=c259e364e3cd2e5b4013d7342c7f33fa'\n",
    "res=requests.get(url,params={'page':1,'query':'Marvel Studios'})\n",
    "python_data=json.loads(res.text)\n",
    "print(python_data['results'][0]['id'])\n"
   ]
  },
  {
   "cell_type": "markdown",
   "metadata": {},
   "source": [
    "TMDb 1.3"
   ]
  },
  {
   "attachments": {},
   "cell_type": "markdown",
   "metadata": {},
   "source": [
    "Find the vote count and vote average of the movie \"3 Idiots\" using the TMDb API\n",
    "Output format: Vote Count , Vote Average"
   ]
  },
  {
   "cell_type": "code",
   "execution_count": 13,
   "metadata": {},
   "outputs": [
    {
     "name": "stdout",
     "output_type": "stream",
     "text": [
      "1945 8\n"
     ]
    }
   ],
   "source": [
    "import requests\n",
    "import json\n",
    "url='https://api.themoviedb.org/3/discover/movie?api_key=c259e364e3cd2e5b4013d7342c7f33fa'\n",
    "ans1=0\n",
    "ans2=0\n",
    "for i in range(1,1001):\n",
    "  f=0\n",
    "  res=requests.get(url,params={'page':i})\n",
    "  python_data=res.json()\n",
    "  for data in python_data['results']:\n",
    "    if(data['title']=='3 Idiots'):\n",
    "      print(data['vote_count'],data['vote_average'])\n",
    "      f=1\n",
    "      break\n",
    "  if f==1:\n",
    "    break"
   ]
  },
  {
   "cell_type": "markdown",
   "metadata": {},
   "source": [
    "TMDb 1.4"
   ]
  },
  {
   "attachments": {},
   "cell_type": "markdown",
   "metadata": {},
   "source": [
    "Fetch the names of top 5 similar movies to 'Inception' from the TMDb API.\n",
    "Output Format:\n",
    "Print the name of the movies in a new line.\n",
    "movie_name_1\n",
    "movie_name_2\n",
    "and so on"
   ]
  },
  {
   "cell_type": "code",
   "execution_count": 36,
   "metadata": {},
   "outputs": [
    {
     "name": "stdout",
     "output_type": "stream",
     "text": [
      "Inception\n",
      "Inception: The Cobol Job\n",
      "Inception: Music from the Motion Picture\n",
      "Bikini Inception\n",
      "WWA The Inception\n"
     ]
    }
   ],
   "source": [
    "import requests\n",
    "import json\n",
    "id=0\n",
    "url='https://api.themoviedb.org/3/search/movie?api_key=c259e364e3cd2e5b4013d7342c7f33fa'\n",
    "res=requests.get(url,params={'query':'Inception'})\n",
    "data=res.json()\n",
    "for i in data['results']:\n",
    "  if i['title']=='Inception':\n",
    "    id=i['id']\n",
    "new_url='https://api.themoviedb.org/3//movie/27205/similar?api_key=c259e364e3cd2e5b4013d7342c7f33fa'\n",
    "res=requests.get(url)\n",
    "python_data=res.json()\n",
    "for i in data['results'][:5]:\n",
    "  print(i['title'])\n",
    " \n"
   ]
  },
  {
   "cell_type": "markdown",
   "metadata": {},
   "source": [
    "TMDb 1.5"
   ]
  },
  {
   "attachments": {},
   "cell_type": "markdown",
   "metadata": {},
   "source": [
    "Fetch the top rated english movies in the US region using the TMDb API. From the result, print the first 10 movies which have original language as english. Also print their genres."
   ]
  },
  {
   "cell_type": "code",
   "execution_count": 44,
   "metadata": {},
   "outputs": [
    {
     "name": "stdout",
     "output_type": "stream",
     "text": [
      "The Godfather-Drama,Crime,\n",
      "The Shawshank Redemption-Drama,Crime,\n",
      "The Godfather Part II-Drama,Crime,\n",
      "Schindler's List-Drama,History,War,\n",
      "12 Angry Men-Drama,\n",
      "The Green Mile-Fantasy,Drama,Crime,\n",
      "The Dark Knight-Drama,Action,Crime,Thriller,\n",
      "Gabriel's Inferno: Part II-Romance,\n",
      "Gabriel's Inferno-Romance,\n",
      "Pulp Fiction-Thriller,Crime,\n"
     ]
    }
   ],
   "source": [
    "import requests\n",
    "import json\n",
    "id=0\n",
    "url='https://api.themoviedb.org/3/genre/movie/list?api_key=c259e364e3cd2e5b4013d7342c7f33fa'\n",
    "res=requests.get(url)\n",
    "data=res.json()\n",
    "gen={}\n",
    "for i in data['genres']:\n",
    "  gen[i['id']]=i['name']\n",
    "new_url='https://api.themoviedb.org/3/movie/top_rated?api_key=c259e364e3cd2e5b4013d7342c7f33fa'\n",
    "cnt=0\n",
    "responce=requests.get(new_url,params={'region':'US'})\n",
    "python_data=responce.json()\n",
    "for i in python_data['results']:\n",
    "  if i['original_language']=='en':\n",
    "    print(i['title'],end=' - ')\n",
    "    for j in i['genre_ids']:\n",
    "      print(gen[j],end=', ')\n",
    "    print()\n",
    "    cnt+=1\n",
    "  if cnt==10:\n",
    "    break"
   ]
  },
  {
   "cell_type": "markdown",
   "metadata": {},
   "source": [
    "TMDb 2.1"
   ]
  },
  {
   "attachments": {},
   "cell_type": "markdown",
   "metadata": {},
   "source": [
    "Find the name and birthplace of the present most popular person according to TMDb API."
   ]
  },
  {
   "cell_type": "code",
   "execution_count": 55,
   "metadata": {},
   "outputs": [
    {
     "name": "stdout",
     "output_type": "stream",
     "text": [
      "Angeli Khang - Mandaluyong City, Philippines\n"
     ]
    }
   ],
   "source": [
    "import requests\n",
    "import json\n",
    "id=0\n",
    "url='https://api.themoviedb.org/3/person/popular?api_key=c259e364e3cd2e5b4013d7342c7f33fa'\n",
    "res=requests.get(url)\n",
    "python_data=res.json()\n",
    "python_data=python_data['results'][0]\n",
    "id=python_data['id']\n",
    "new_url='https://api.themoviedb.org/3/person/3194176?api_key=c259e364e3cd2e5b4013d7342c7f33fa'\n",
    "responce=requests.get(new_url)\n",
    "data=responce.json()\n",
    "print(data['name'],'-',data['place_of_birth'])"
   ]
  },
  {
   "attachments": {},
   "cell_type": "markdown",
   "metadata": {},
   "source": [
    "TMDb 2.2"
   ]
  },
  {
   "attachments": {},
   "cell_type": "markdown",
   "metadata": {},
   "source": [
    "Fetch the Instagram and Twitter handle of Indian Actress \"Alia Bhatt\" from the TMDb API."
   ]
  },
  {
   "cell_type": "code",
   "execution_count": 1,
   "metadata": {},
   "outputs": [
    {
     "name": "stdout",
     "output_type": "stream",
     "text": [
      "aliaabhatt   Aliaa08\n"
     ]
    }
   ],
   "source": [
    "import requests\n",
    "apiKey = 'ffafe1f2b141d9a9fcae15771fe46db1'\n",
    "ID=1108120\n",
    "res = requests.get(f'https://api.themoviedb.org/3/person/{ID}/external_ids',params={'api_key':apiKey}) \n",
    "data=res.json()\n",
    "print(data['instagram_id'],' ',data['twitter_id'])"
   ]
  },
  {
   "attachments": {},
   "cell_type": "markdown",
   "metadata": {},
   "source": [
    "TMDb 2.3"
   ]
  },
  {
   "attachments": {},
   "cell_type": "markdown",
   "metadata": {},
   "source": [
    "Fetch the names of the character played by Tom Cruise in the movies:\n",
    "Top Gun\n",
    "Mission: Impossible - Fallout\n",
    "Minority Report\n",
    "Edge of Tomorrow"
   ]
  },
  {
   "cell_type": "code",
   "execution_count": 2,
   "metadata": {},
   "outputs": [],
   "source": [
    "import requests\n",
    "import json\n",
    "id=0\n",
    "url='https://api.themoviedb.org/3/search/person?api_key=c259e364e3cd2e5b4013d7342c7f33fa'\n",
    "res=requests.get(url,params={'query':'Alia Bhatt'})\n",
    "python_data=res.json()\n",
    "id=python_data['results'][0]['id']\n",
    "new_url='https://api.themoviedb.org/3/person/{id}/external_ids?api_key=c259e364e3cd2e5b4013d7342c7f33fa'\n",
    "responce=requests.get(new_url)\n",
    "data=responce.json()\n",
    " "
   ]
  },
  {
   "cell_type": "code",
   "execution_count": 12,
   "metadata": {},
   "outputs": [],
   "source": [
    "import requests\n",
    "import json\n",
    "url='https://api.themoviedb.org/3/search/person?api_key=c259e364e3cd2e5b4013d7342c7f33fa'\n",
    "res=requests.get(url,params={'query':'Tom Cruise'})\n",
    "data=res.json()\n",
    "ID=data['results'][0]['id']"
   ]
  },
  {
   "cell_type": "code",
   "execution_count": 20,
   "metadata": {},
   "outputs": [
    {
     "name": "stdout",
     "output_type": "stream",
     "text": [
      "Lt. Pete 'Maverick' Mitchell\n",
      "Ethan Hunt\n",
      "Chief John Anderton\n",
      "Maj. William 'Bill' Cage\n"
     ]
    }
   ],
   "source": [
    "url=f'https://api.themoviedb.org/3/person/{ID}/movie_credits?api_key=c259e364e3cd2e5b4013d7342c7f33fa'\n",
    "res = requests.get(url) \n",
    "data=res.json()\n",
    "for i in data['cast']:\n",
    "    if i['title']=='Top Gun':\n",
    "        print(i['character'])\n",
    "        break\n",
    "for i in data['cast']:\n",
    "    if i['title']=='Mission: Impossible - Fallout': \n",
    "        print(i['character'])\n",
    "        break\n",
    "for i in data['cast']:\n",
    "    if i['title']=='Minority Report': \n",
    "        print(i['character'])\n",
    "        break\n",
    "for i in data['cast']:\n",
    "    if i['title']=='Edge of Tomorrow': \n",
    "        print(i['character'])\n",
    "        break"
   ]
  },
  {
   "attachments": {},
   "cell_type": "markdown",
   "metadata": {},
   "source": [
    "TMDb 2.4"
   ]
  },
  {
   "attachments": {},
   "cell_type": "markdown",
   "metadata": {},
   "source": [
    "Did James McAvoy play a role in the movie Deadpool 2. Print Yes or No."
   ]
  },
  {
   "cell_type": "code",
   "execution_count": 28,
   "metadata": {},
   "outputs": [
    {
     "data": {
      "text/plain": [
       "5530"
      ]
     },
     "execution_count": 28,
     "metadata": {},
     "output_type": "execute_result"
    }
   ],
   "source": [
    "import requests\n",
    "import json\n",
    "url='https://api.themoviedb.org/3/search/person?api_key=c259e364e3cd2e5b4013d7342c7f33fa'\n",
    "res=requests.get(url,params={'query':'James McAvoy'})\n",
    "data=res.json()\n",
    "ID=data['results'][0]['id']\n",
    "ID"
   ]
  },
  {
   "cell_type": "code",
   "execution_count": 36,
   "metadata": {},
   "outputs": [
    {
     "name": "stdout",
     "output_type": "stream",
     "text": [
      "Yes\n"
     ]
    }
   ],
   "source": [
    "url='https://api.themoviedb.org/3/person/{ID}/movie_credits?api_key=c259e364e3cd2e5b4013d7342c7f33fa'\n",
    "res=requests.get(url)\n",
    "python_data=res.json()\n",
    "for i in data['cast']:\n",
    "    if i['title']=='Deadpool 2':\n",
    "        print('Yes')\n",
    "        break\n",
    "else:\n",
    "    print('No')"
   ]
  },
  {
   "attachments": {},
   "cell_type": "markdown",
   "metadata": {},
   "source": [
    "TMDb 3.1"
   ]
  },
  {
   "attachments": {},
   "cell_type": "markdown",
   "metadata": {},
   "source": [
    "Fetch the overview of the TV Show \"FRIENDS\" using TMDb API."
   ]
  },
  {
   "cell_type": "code",
   "execution_count": 39,
   "metadata": {},
   "outputs": [
    {
     "name": "stdout",
     "output_type": "stream",
     "text": [
      "Six young people from New York City, on their own and struggling to survive in the real world, find the companionship, comfort and support they get from each other to be the perfect antidote to the pressures of life.\n"
     ]
    }
   ],
   "source": [
    "url='https://api.themoviedb.org/3/search/tv?api_key=c259e364e3cd2e5b4013d7342c7f33fa'\n",
    "res=requests.get(url,params={'query':'FRIENDS'})\n",
    "python_data=res.json()\n",
    "for i in python_data['results']:\n",
    "  if i['original_name']=='Friends':\n",
    "    print(i['overview'])\n",
    "    break"
   ]
  },
  {
   "attachments": {},
   "cell_type": "markdown",
   "metadata": {},
   "source": [
    "TMDb 3.2"
   ]
  },
  {
   "attachments": {},
   "cell_type": "markdown",
   "metadata": {},
   "source": [
    "Fetch the name and air date of S06E05 of the TV Show 'The Big Bang Theory' from TMDb API."
   ]
  },
  {
   "cell_type": "code",
   "execution_count": 50,
   "metadata": {},
   "outputs": [
    {
     "name": "stdout",
     "output_type": "stream",
     "text": [
      "1418\n"
     ]
    }
   ],
   "source": [
    "url='https://api.themoviedb.org/3/search/tv?api_key=c259e364e3cd2e5b4013d7342c7f33fa'\n",
    "res=requests.get(url,params={'query':'The Big Bang Theory'})\n",
    "ID=0\n",
    "python_data=res.json()\n",
    "for i in python_data['results']:\n",
    "  if i['original_name']=='The Big Bang Theory':\n",
    "    ID=i['id']\n",
    "    break\n"
   ]
  },
  {
   "cell_type": "code",
   "execution_count": 52,
   "metadata": {},
   "outputs": [
    {
     "name": "stdout",
     "output_type": "stream",
     "text": [
      "The Holographic Excitation - 2012-10-25\n"
     ]
    }
   ],
   "source": [
    "url='https://api.themoviedb.org/3/tv/1418/season/06/episode/05?api_key=c259e364e3cd2e5b4013d7342c7f33fa'\n",
    "res=requests.get(url,params={'query':'The Big Bang Theory'})\n",
    "python_data=res.json()\n",
    "print(python_data['name'],'-',python_data['air_date'])"
   ]
  },
  {
   "attachments": {},
   "cell_type": "markdown",
   "metadata": {},
   "source": [
    "TMDb 3.3"
   ]
  },
  {
   "attachments": {},
   "cell_type": "markdown",
   "metadata": {},
   "source": [
    "Fetch the trending TV Shows for the week from the TMDb API and print the taglines of the top 5 shows. If there is no tagline, print 'Empty' instead"
   ]
  },
  {
   "cell_type": "code",
   "execution_count": 69,
   "metadata": {},
   "outputs": [
    {
     "data": {
      "text/plain": [
       "[90669, 119051, 83867, 1402, 95403]"
      ]
     },
     "execution_count": 69,
     "metadata": {},
     "output_type": "execute_result"
    }
   ],
   "source": [
    "# url='https://api.themoviedb.org/3/trending/tv/week?api_key=c259e364e3cd2e5b4013d7342c7f33fa'\n",
    "# res=requests.get(url)\n",
    "# data=res.json()\n",
    "# id=[]\n",
    "# for i in data['results'][:5]:\n",
    "#   id.append(i['id'])\n",
    "res = requests.get('https://api.themoviedb.org/3/trending/tv/week?api_key=c259e364e3cd2e5b4013d7342c7f33fa') \n",
    "data=res.json()\n",
    "id=[]\n",
    "for i in data['results'][:5]:\n",
    "    id.append(i['id'])\n",
    "id\n"
   ]
  },
  {
   "cell_type": "code",
   "execution_count": 73,
   "metadata": {},
   "outputs": [
    {
     "name": "stdout",
     "output_type": "stream",
     "text": [
      "What is lost will be found.\n",
      "Empty\n",
      "The Rebellion begins.\n",
      "Fight the dead. Fear the living.\n",
      "Empty\n"
     ]
    }
   ],
   "source": [
    "\n",
    "# for i in id:\n",
    "#   url=f'https://api.themoviedb.org/3/tv/{i}?api_key=c259e364e3cd2e5b4013d7342c7f33fa'\n",
    "#   res=requests.get(url)\n",
    "#   data=res.json()\n",
    "#   print(data['tagline'])\n",
    "for i in id:\n",
    "    res = requests.get(f'https://api.themoviedb.org/3/tv/{i}?api_key=c259e364e3cd2e5b4013d7342c7f33fa') \n",
    "    data=res.json()\n",
    "    s=data['tagline']\n",
    "    if(len(s)==0):\n",
    "      print('Empty')\n",
    "    else:\n",
    "      print(s)"
   ]
  },
  {
   "attachments": {},
   "cell_type": "markdown",
   "metadata": {},
   "source": [
    "TMDb 3.4\n"
   ]
  },
  {
   "attachments": {},
   "cell_type": "markdown",
   "metadata": {},
   "source": [
    "Print the names of all the TV shows to be aired today whose original language is english."
   ]
  },
  {
   "cell_type": "code",
   "execution_count": 2,
   "metadata": {},
   "outputs": [
    {
     "name": "stdout",
     "output_type": "stream",
     "text": [
      "WWE NXT\n",
      "Saturday Night Live\n",
      "RWBY\n",
      "Casualty\n",
      "Naked News\n",
      "On Patrol: Live\n",
      "The Try Guys\n",
      "Pointless Celebrities\n",
      "America's Test Kitchen\n",
      "Marvel's Moon Girl and Devil Dinosaur\n",
      "The Ghost and Molly McGee\n",
      "On Patrol: First Shift\n",
      "Ant & Dec's Saturday Night Takeaway\n",
      "Ant & Dec's Saturday Night Takeaway\n",
      "Cold Justice\n",
      "Saturday Kitchen\n",
      "The Pit Stop\n",
      "Celebrity Mastermind\n",
      "Kiff\n",
      "Hidden London Hangouts\n",
      "WOW - Women of Wrestling\n",
      "Family Dinner\n",
      "Bettany Hughes' Treasures of the World\n",
      "Ainsley's Fantastic Flavours\n",
      "Family Group\n",
      "Broadcat\n",
      "Studio 23\n",
      "Juzni vetar: Na granici\n",
      "Britain's Favourite Pop Songs: 90s\n",
      "CNN This Morning Weekend with Victor Blackwell and Amara Walker\n"
     ]
    }
   ],
   "source": [
    "import requests\n",
    "# apiKey = 'ffafe1f2b141d9a9fcae15771fe46db1'\n",
    "## Write your code here\n",
    "res = requests.get(f'https://api.themoviedb.org/3//tv/airing_today?api_key=c259e364e3cd2e5b4013d7342c7f33fa')\n",
    "data=res.json()\n",
    "total=data['total_pages']\n",
    "for i in range(1,total+1):\n",
    "  res = requests.get(f'https://api.themoviedb.org/3//tv/airing_today?api_key=c259e364e3cd2e5b4013d7342c7f33fa',params={'page':i}) \n",
    "  data=res.json()\n",
    "  for j  in data['results']:\n",
    "    if j['original_language']=='en':\n",
    "      print(j['name'])\n",
    "     "
   ]
  }
 ],
 "metadata": {
  "kernelspec": {
   "display_name": "Python 3.10.1 64-bit",
   "language": "python",
   "name": "python3"
  },
  "language_info": {
   "codemirror_mode": {
    "name": "ipython",
    "version": 3
   },
   "file_extension": ".py",
   "mimetype": "text/x-python",
   "name": "python",
   "nbconvert_exporter": "python",
   "pygments_lexer": "ipython3",
   "version": "3.10.1"
  },
  "orig_nbformat": 4,
  "vscode": {
   "interpreter": {
    "hash": "31671a60cee805c34c73116577b485118ff3a75c458d3004d49632c19702ac60"
   }
  }
 },
 "nbformat": 4,
 "nbformat_minor": 2
}
